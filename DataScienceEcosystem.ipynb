{
 "cells": [
  {
   "cell_type": "markdown",
   "id": "d33db349-bf88-4ddd-b2c4-6272307c8681",
   "metadata": {},
   "source": [
    "# Data Science Tools and Ecosystem"
   ]
  },
  {
   "cell_type": "markdown",
   "id": "042af27e-842f-4e2c-a833-9cf3ebc6572c",
   "metadata": {},
   "source": [
    "In this notebook, Data Science Tools and Ecosystem are summarized."
   ]
  },
  {
   "cell_type": "markdown",
   "id": "3942e20d-3a2b-4f8f-af56-1bc537b5bd5a",
   "metadata": {},
   "source": [
    "**Objectives:**"
   ]
  },
  {
   "cell_type": "markdown",
   "id": "d4ee9b3b-9c08-4beb-a971-3e548c8ce817",
   "metadata": {},
   "source": [
    "- List popular languages for Data Science\n",
    "- Show some DataScience libraries\n",
    "- Exhibit 3 DataScience Environments\n",
    "- Display a simple arithmetic expression to mutiply then add integers\n",
    "- Present an example in Python to convert min to hours\n"
   ]
  },
  {
   "cell_type": "markdown",
   "id": "6633967b-70a0-4a59-b443-ec10f7ff1290",
   "metadata": {},
   "source": [
    "Some of the popular languages that Data Scientists use are:\n",
    "1. Phython\n",
    "2. R\r",
    "3. Julia"
   ]
  },
  {
   "cell_type": "markdown",
   "id": "f50e2465-b433-4838-95f8-bfe24a623a90",
   "metadata": {},
   "source": [
    "Some of the commonly used libraries used by Data Scientists include:\n",
    "1. Pandas\n",
    "2. NumPy\n",
    "3. Matplotlib\n",
    "4. TensorFlow\n",
    "5. Scikit-Learn\n",
    "6. Keras\n",
    "7. SciPy"
   ]
  },
  {
   "cell_type": "markdown",
   "id": "48053352-657f-4681-acc2-28bb86f6694f",
   "metadata": {},
   "source": [
    "|DataScience Tools |\n",
    "|---|\n",
    "|Apache Hadoop | \n",
    "|Apache Spark |\n",
    "|R studio|  "
   ]
  },
  {
   "cell_type": "markdown",
   "id": "33ec6cb7-304b-4290-beeb-0dd261b228de",
   "metadata": {},
   "source": [
    "### Below are a few examples of evaluating arithmetic expressions in Python"
   ]
  },
  {
   "cell_type": "code",
   "execution_count": 1,
   "id": "6a3b75a5-3cb5-4262-b3cc-414d0161fca2",
   "metadata": {},
   "outputs": [
    {
     "data": {
      "text/plain": [
       "17"
      ]
     },
     "execution_count": 1,
     "metadata": {},
     "output_type": "execute_result"
    }
   ],
   "source": [
    "# This a simple arithmetic expression to mutiply then add integers\n",
    "(3*4)+5"
   ]
  },
  {
   "cell_type": "code",
   "execution_count": null,
   "id": "8297e073-9a09-4730-bfe6-9ed6141feae0",
   "metadata": {},
   "outputs": [],
   "source": [
    "#This will convert 200 minutes to hours by diving by 60\n",
    "min=int(input(\"Enter time in minutes\"))\n",
    "h=min//60\n",
    "m=min%60\n",
    "print(\"Hours=\",h)\n",
    "print(\"Minutes=\",m)"
   ]
  },
  {
   "cell_type": "markdown",
   "id": "321ad66e-160d-4800-9867-2ba7c1f3402e",
   "metadata": {},
   "source": [
    "## Author \n",
    "Luciana Moraes"
   ]
  },
  {
   "cell_type": "code",
   "execution_count": null,
   "id": "6cadd16e-18b1-413b-9926-55ad4ed5f5c0",
   "metadata": {},
   "outputs": [],
   "source": []
  },
  {
   "cell_type": "code",
   "execution_count": null,
   "id": "11f2e855-546b-4734-832b-9d0175c3303b",
   "metadata": {},
   "outputs": [],
   "source": []
  }
 ],
 "metadata": {
  "kernelspec": {
   "display_name": "Python 3 (ipykernel)",
   "language": "python",
   "name": "python3"
  },
  "language_info": {
   "codemirror_mode": {
    "name": "ipython",
    "version": 3
   },
   "file_extension": ".py",
   "mimetype": "text/x-python",
   "name": "python",
   "nbconvert_exporter": "python",
   "pygments_lexer": "ipython3",
   "version": "3.11.7"
  }
 },
 "nbformat": 4,
 "nbformat_minor": 5
}
